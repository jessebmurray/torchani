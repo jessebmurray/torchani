{
 "cells": [
  {
   "cell_type": "code",
   "execution_count": null,
   "metadata": {},
   "outputs": [],
   "source": [
    "import torch\n",
    "import math\n",
    "import numpy as np\n",
    "import nci\n",
    "import qcelemental as qcel\n",
    "from os import listdir\n",
    "from torchani.nn import SpeciesConverter\n"
   ]
  },
  {
   "cell_type": "code",
   "execution_count": 76,
   "metadata": {},
   "outputs": [],
   "source": [
    "dataset = 'NCIA_HB375x10'\n",
    "\n",
    "ani1x_values = {'radial_cutoff': 5.2,\n",
    "                'angular_cutoff': 3.5,\n",
    "                'radial_eta': 16.0,\n",
    "                'angular_eta': 8.0,\n",
    "                'radial_dist_divisions': 16,\n",
    "                'angular_dist_divisions': 4,\n",
    "                'zeta': 32.0,\n",
    "                'angle_sections': 8,\n",
    "                'num_species': 3}\n",
    "\n",
    "constants = nci.get_constants(**ani1x_values)\n",
    "data = nci.load_data(dataset)"
   ]
  },
  {
   "cell_type": "code",
   "execution_count": 81,
   "metadata": {},
   "outputs": [
    {
     "data": {
      "text/plain": [
       "{'charge': 0.0,\n",
       " 'charge_a': 0.0,\n",
       " 'charge_b': 0.0,\n",
       " 'selection_a': slice(0, 8, None),\n",
       " 'selection_b': slice(8, 15, None),\n",
       " 'scaling': 0.8,\n",
       " 'benchmark_Eint': -4.591,\n",
       " 'benchmark_unit': 'kcal/mol',\n",
       " 'group': 'OH-O'}"
      ]
     },
     "execution_count": 81,
     "metadata": {},
     "output_type": "execute_result"
    }
   ],
   "source": [
    "info"
   ]
  },
  {
   "cell_type": "code",
   "execution_count": 80,
   "metadata": {},
   "outputs": [
    {
     "data": {
      "text/plain": [
       "[{'species': tensor([[1, 3, 3, 0, 1, 0, 0, 0, 0, 0, 0, 0, 1, 1, 3]]),\n",
       "  'coordinates': tensor([[[-1.6767, -0.1555,  0.0000],\n",
       "           [-0.9935, -1.1558,  0.0000],\n",
       "           [-1.1739,  1.0802,  0.0000],\n",
       "           [-0.1859,  1.0356,  0.0000],\n",
       "           [-3.1810, -0.1561,  0.0000],\n",
       "           [-3.5503, -1.1755,  0.0000],\n",
       "           [-3.5490,  0.3752, -0.8767],\n",
       "           [-3.5490,  0.3752,  0.8767],\n",
       "           [ 3.3838, -1.0550,  0.8742],\n",
       "           [ 3.3838, -1.0550, -0.8742],\n",
       "           [ 3.7187,  0.4683,  0.0000],\n",
       "           [ 0.9883, -1.0291,  0.0000],\n",
       "           [ 3.1362, -0.4486,  0.0000],\n",
       "           [ 1.6711, -0.1654,  0.0000],\n",
       "           [ 1.2065,  0.9555,  0.0000]]]),\n",
       "  'energies': -4.591},\n",
       " {'species': tensor([[1, 3, 3, 0, 1, 0, 0, 0, 0, 0, 0, 0, 1, 1, 3]]),\n",
       "  'coordinates': tensor([[[-1.6767, -0.1555,  0.0000],\n",
       "           [-0.9935, -1.1558,  0.0000],\n",
       "           [-1.1739,  1.0802,  0.0000],\n",
       "           [-0.1859,  1.0356,  0.0000],\n",
       "           [-3.1810, -0.1561,  0.0000],\n",
       "           [-3.5503, -1.1755,  0.0000],\n",
       "           [-3.5490,  0.3752, -0.8767],\n",
       "           [-3.5490,  0.3752,  0.8767],\n",
       "           [ 3.4708, -1.0601,  0.8742],\n",
       "           [ 3.4708, -1.0601, -0.8742],\n",
       "           [ 3.8057,  0.4633,  0.0000],\n",
       "           [ 1.0754, -1.0341,  0.0000],\n",
       "           [ 3.2232, -0.4536,  0.0000],\n",
       "           [ 1.7581, -0.1705,  0.0000],\n",
       "           [ 1.2935,  0.9504,  0.0000]]]),\n",
       "  'energies': -7.802}]"
      ]
     },
     "execution_count": 80,
     "metadata": {},
     "output_type": "execute_result"
    }
   ],
   "source": [
    "data[:2]"
   ]
  },
  {
   "cell_type": "code",
   "execution_count": 91,
   "metadata": {},
   "outputs": [
    {
     "data": {
      "text/plain": [
       "['c', 'c', 'c', 'c', 'c', 'a', 'a', 'a']"
      ]
     },
     "execution_count": 91,
     "metadata": {},
     "output_type": "execute_result"
    }
   ],
   "source": [
    "example = ['c'] * 5 + ['a'] * 3\n",
    "index_diff = 5\n",
    "example"
   ]
  },
  {
   "cell_type": "code",
   "execution_count": 92,
   "metadata": {},
   "outputs": [
    {
     "data": {
      "text/plain": [
       "['c', 'c', 'c', 'c', 'c']"
      ]
     },
     "execution_count": 92,
     "metadata": {},
     "output_type": "execute_result"
    }
   ],
   "source": [
    "example[:index_diff]"
   ]
  },
  {
   "cell_type": "code",
   "execution_count": 93,
   "metadata": {},
   "outputs": [
    {
     "data": {
      "text/plain": [
       "['a', 'a', 'a']"
      ]
     },
     "execution_count": 93,
     "metadata": {},
     "output_type": "execute_result"
    }
   ],
   "source": [
    "example[index_diff:]"
   ]
  },
  {
   "cell_type": "code",
   "execution_count": 100,
   "metadata": {},
   "outputs": [],
   "source": [
    "r_index_diff = len(example) - index_diff"
   ]
  },
  {
   "cell_type": "code",
   "execution_count": 98,
   "metadata": {},
   "outputs": [
    {
     "data": {
      "text/plain": [
       "['a', 'a', 'a', 'c', 'c', 'c', 'c', 'c']"
      ]
     },
     "execution_count": 98,
     "metadata": {},
     "output_type": "execute_result"
    }
   ],
   "source": [
    "r_example = example[::-1]\n",
    "r_example"
   ]
  },
  {
   "cell_type": "code",
   "execution_count": 101,
   "metadata": {},
   "outputs": [
    {
     "data": {
      "text/plain": [
       "['a', 'a', 'a']"
      ]
     },
     "execution_count": 101,
     "metadata": {},
     "output_type": "execute_result"
    }
   ],
   "source": [
    "r_example[:r_index_diff]"
   ]
  },
  {
   "cell_type": "code",
   "execution_count": 102,
   "metadata": {},
   "outputs": [
    {
     "data": {
      "text/plain": [
       "['c', 'c', 'c', 'c', 'c']"
      ]
     },
     "execution_count": 102,
     "metadata": {},
     "output_type": "execute_result"
    }
   ],
   "source": [
    "r_example[r_index_diff:]"
   ]
  },
  {
   "cell_type": "code",
   "execution_count": null,
   "metadata": {},
   "outputs": [],
   "source": []
  },
  {
   "cell_type": "code",
   "execution_count": null,
   "metadata": {},
   "outputs": [],
   "source": []
  },
  {
   "cell_type": "code",
   "execution_count": null,
   "metadata": {},
   "outputs": [],
   "source": []
  },
  {
   "cell_type": "code",
   "execution_count": null,
   "metadata": {},
   "outputs": [],
   "source": []
  },
  {
   "cell_type": "code",
   "execution_count": null,
   "metadata": {},
   "outputs": [],
   "source": []
  },
  {
   "cell_type": "code",
   "execution_count": null,
   "metadata": {},
   "outputs": [],
   "source": []
  },
  {
   "cell_type": "code",
   "execution_count": null,
   "metadata": {},
   "outputs": [],
   "source": []
  },
  {
   "cell_type": "code",
   "execution_count": null,
   "metadata": {},
   "outputs": [],
   "source": []
  },
  {
   "cell_type": "code",
   "execution_count": null,
   "metadata": {},
   "outputs": [],
   "source": []
  },
  {
   "cell_type": "code",
   "execution_count": 11,
   "metadata": {},
   "outputs": [
    {
     "name": "stderr",
     "output_type": "stream",
     "text": [
      "/usr/local/Caskroom/miniconda/base/lib/python3.9/site-packages/torch/functional.py:1069: UserWarning: torch.meshgrid: in an upcoming release, it will be required to pass the indexing argument. (Triggered internally at  /Users/distiller/project/conda/conda-bld/pytorch_1640812094853/work/aten/src/ATen/native/TensorShape.cpp:2157.)\n",
      "  return _VF.cartesian_prod(tensors)  # type: ignore[attr-defined]\n"
     ]
    }
   ],
   "source": []
  },
  {
   "cell_type": "code",
   "execution_count": 12,
   "metadata": {},
   "outputs": [],
   "source": [
    "species, aevs = AEVC.forward((species, coordinates), index_diff)"
   ]
  },
  {
   "cell_type": "code",
   "execution_count": 13,
   "metadata": {},
   "outputs": [
    {
     "data": {
      "text/plain": [
       "tensor([[1, 2, 2, 0, 1, 0, 0, 0]])"
      ]
     },
     "execution_count": 13,
     "metadata": {},
     "output_type": "execute_result"
    }
   ],
   "source": [
    "species"
   ]
  },
  {
   "cell_type": "code",
   "execution_count": 14,
   "metadata": {},
   "outputs": [
    {
     "data": {
      "text/plain": [
       "{'charge': 0.0,\n",
       " 'charge_a': 0.0,\n",
       " 'charge_b': 0.0,\n",
       " 'selection_a': slice(0, 8, None),\n",
       " 'selection_b': slice(8, 15, None),\n",
       " 'scaling': 0.8,\n",
       " 'benchmark_Eint': -4.591,\n",
       " 'benchmark_unit': 'kcal/mol',\n",
       " 'group': 'OH-O'}"
      ]
     },
     "execution_count": 14,
     "metadata": {},
     "output_type": "execute_result"
    }
   ],
   "source": [
    "info"
   ]
  },
  {
   "cell_type": "code",
   "execution_count": 15,
   "metadata": {},
   "outputs": [
    {
     "data": {
      "text/plain": [
       "8"
      ]
     },
     "execution_count": 15,
     "metadata": {},
     "output_type": "execute_result"
    }
   ],
   "source": [
    "len(species[0])"
   ]
  },
  {
   "cell_type": "code",
   "execution_count": 19,
   "metadata": {},
   "outputs": [
    {
     "data": {
      "text/plain": [
       "tensor([[1, 2, 2, 0, 1, 0, 0, 0]])"
      ]
     },
     "execution_count": 19,
     "metadata": {},
     "output_type": "execute_result"
    }
   ],
   "source": [
    "species"
   ]
  },
  {
   "cell_type": "code",
   "execution_count": 18,
   "metadata": {},
   "outputs": [
    {
     "data": {
      "text/plain": [
       "tensor([[[6.8264e-27, 2.7908e-20, 1.1312e-14,  ..., 0.0000e+00,\n",
       "          0.0000e+00, 0.0000e+00],\n",
       "         [1.0899e-09, 3.9021e-06, 1.3850e-03,  ..., 0.0000e+00,\n",
       "          0.0000e+00, 0.0000e+00],\n",
       "         [5.2499e-33, 1.3771e-25, 3.5809e-19,  ..., 0.0000e+00,\n",
       "          0.0000e+00, 0.0000e+00],\n",
       "         ...,\n",
       "         [0.0000e+00, 0.0000e+00, 0.0000e+00,  ..., 0.0000e+00,\n",
       "          0.0000e+00, 0.0000e+00],\n",
       "         [0.0000e+00, 0.0000e+00, 0.0000e+00,  ..., 0.0000e+00,\n",
       "          0.0000e+00, 0.0000e+00],\n",
       "         [0.0000e+00, 0.0000e+00, 0.0000e+00,  ..., 0.0000e+00,\n",
       "          0.0000e+00, 0.0000e+00]]])"
      ]
     },
     "execution_count": 18,
     "metadata": {},
     "output_type": "execute_result"
    }
   ],
   "source": [
    "aevs"
   ]
  },
  {
   "cell_type": "code",
   "execution_count": 16,
   "metadata": {},
   "outputs": [
    {
     "data": {
      "text/plain": [
       "torch.Size([1, 8])"
      ]
     },
     "execution_count": 16,
     "metadata": {},
     "output_type": "execute_result"
    }
   ],
   "source": [
    "species.shape"
   ]
  },
  {
   "cell_type": "code",
   "execution_count": 17,
   "metadata": {},
   "outputs": [
    {
     "data": {
      "text/plain": [
       "torch.Size([1, 8, 240])"
      ]
     },
     "execution_count": 17,
     "metadata": {},
     "output_type": "execute_result"
    }
   ],
   "source": [
    "aevs.shape"
   ]
  },
  {
   "cell_type": "code",
   "execution_count": 20,
   "metadata": {},
   "outputs": [
    {
     "ename": "ModuleNotFoundError",
     "evalue": "No module named 'h5py'",
     "output_type": "error",
     "traceback": [
      "\u001b[0;31m---------------------------------------------------------------------------\u001b[0m",
      "\u001b[0;31mModuleNotFoundError\u001b[0m                       Traceback (most recent call last)",
      "\u001b[1;32m/Users/jessemurray/Desktop/Main/Rotation1/Code/torchani/temp.ipynb Cell 20'\u001b[0m in \u001b[0;36m<cell line: 1>\u001b[0;34m()\u001b[0m\n\u001b[0;32m----> <a href='vscode-notebook-cell:/Users/jessemurray/Desktop/Main/Rotation1/Code/torchani/temp.ipynb#ch0000044?line=0'>1</a>\u001b[0m \u001b[39mfrom\u001b[39;00m \u001b[39mtorchani\u001b[39;00m\u001b[39m.\u001b[39;00m\u001b[39mdata\u001b[39;00m \u001b[39mimport\u001b[39;00m load\n",
      "File \u001b[0;32m~/Desktop/Main/Rotation1/Code/torchani/torchani/data/__init__.py:100\u001b[0m, in \u001b[0;36m<module>\u001b[0;34m\u001b[0m\n\u001b[1;32m     <a href='file:///Users/jessemurray/Desktop/Main/Rotation1/Code/torchani/torchani/data/__init__.py?line=97'>98</a>\u001b[0m \u001b[39mfrom\u001b[39;00m \u001b[39mos\u001b[39;00m\u001b[39m.\u001b[39;00m\u001b[39mpath\u001b[39;00m \u001b[39mimport\u001b[39;00m join, isfile, isdir\n\u001b[1;32m     <a href='file:///Users/jessemurray/Desktop/Main/Rotation1/Code/torchani/torchani/data/__init__.py?line=98'>99</a>\u001b[0m \u001b[39mimport\u001b[39;00m \u001b[39mos\u001b[39;00m\n\u001b[0;32m--> <a href='file:///Users/jessemurray/Desktop/Main/Rotation1/Code/torchani/torchani/data/__init__.py?line=99'>100</a>\u001b[0m \u001b[39mfrom\u001b[39;00m \u001b[39m.\u001b[39;00m\u001b[39m_pyanitools\u001b[39;00m \u001b[39mimport\u001b[39;00m anidataloader\n\u001b[1;32m    <a href='file:///Users/jessemurray/Desktop/Main/Rotation1/Code/torchani/torchani/data/__init__.py?line=100'>101</a>\u001b[0m \u001b[39mfrom\u001b[39;00m \u001b[39m.\u001b[39;00m\u001b[39m.\u001b[39;00m \u001b[39mimport\u001b[39;00m utils\n\u001b[1;32m    <a href='file:///Users/jessemurray/Desktop/Main/Rotation1/Code/torchani/torchani/data/__init__.py?line=101'>102</a>\u001b[0m \u001b[39mimport\u001b[39;00m \u001b[39mimportlib\u001b[39;00m\n",
      "File \u001b[0;32m~/Desktop/Main/Rotation1/Code/torchani/torchani/data/_pyanitools.py:2\u001b[0m, in \u001b[0;36m<module>\u001b[0;34m\u001b[0m\n\u001b[1;32m      <a href='file:///Users/jessemurray/Desktop/Main/Rotation1/Code/torchani/torchani/data/_pyanitools.py?line=0'>1</a>\u001b[0m \u001b[39m# Written by Roman Zubatyuk and Justin S. Smith\u001b[39;00m\n\u001b[0;32m----> <a href='file:///Users/jessemurray/Desktop/Main/Rotation1/Code/torchani/torchani/data/_pyanitools.py?line=1'>2</a>\u001b[0m \u001b[39mimport\u001b[39;00m \u001b[39mh5py\u001b[39;00m\n\u001b[1;32m      <a href='file:///Users/jessemurray/Desktop/Main/Rotation1/Code/torchani/torchani/data/_pyanitools.py?line=2'>3</a>\u001b[0m \u001b[39mimport\u001b[39;00m \u001b[39mnumpy\u001b[39;00m \u001b[39mas\u001b[39;00m \u001b[39mnp\u001b[39;00m\n\u001b[1;32m      <a href='file:///Users/jessemurray/Desktop/Main/Rotation1/Code/torchani/torchani/data/_pyanitools.py?line=3'>4</a>\u001b[0m \u001b[39mimport\u001b[39;00m \u001b[39mos\u001b[39;00m\n",
      "\u001b[0;31mModuleNotFoundError\u001b[0m: No module named 'h5py'"
     ]
    }
   ],
   "source": [
    "from torchani.data import load"
   ]
  },
  {
   "cell_type": "code",
   "execution_count": 31,
   "metadata": {},
   "outputs": [],
   "source": [
    "import h5py"
   ]
  },
  {
   "cell_type": "code",
   "execution_count": 32,
   "metadata": {},
   "outputs": [
    {
     "ename": "AttributeError",
     "evalue": "module 'h5py' has no attribute 'File'",
     "output_type": "error",
     "traceback": [
      "\u001b[0;31m---------------------------------------------------------------------------\u001b[0m",
      "\u001b[0;31mAttributeError\u001b[0m                            Traceback (most recent call last)",
      "\u001b[1;32m/Users/jessemurray/Desktop/Main/Rotation1/Code/torchani/temp.ipynb Cell 22'\u001b[0m in \u001b[0;36m<cell line: 1>\u001b[0;34m()\u001b[0m\n\u001b[0;32m----> <a href='vscode-notebook-cell:/Users/jessemurray/Desktop/Main/Rotation1/Code/torchani/temp.ipynb#ch0000046?line=0'>1</a>\u001b[0m h5py\u001b[39m.\u001b[39;49mFile(\u001b[39m\"\u001b[39m\u001b[39mani_gdb_s01.h5\u001b[39m\u001b[39m\"\u001b[39m, \u001b[39m'\u001b[39m\u001b[39mr\u001b[39m\u001b[39m'\u001b[39m)\n",
      "\u001b[0;31mAttributeError\u001b[0m: module 'h5py' has no attribute 'File'"
     ]
    }
   ],
   "source": []
  },
  {
   "cell_type": "code",
   "execution_count": null,
   "metadata": {},
   "outputs": [],
   "source": []
  },
  {
   "cell_type": "code",
   "execution_count": 33,
   "metadata": {},
   "outputs": [],
   "source": [
    "from torchani.aev import neighbor_pairs_nopbc"
   ]
  },
  {
   "cell_type": "code",
   "execution_count": 36,
   "metadata": {},
   "outputs": [],
   "source": [
    "atom_index12 = neighbor_pairs_nopbc(species == -1, coordinates, constants['Rcr'])"
   ]
  },
  {
   "cell_type": "code",
   "execution_count": 37,
   "metadata": {},
   "outputs": [],
   "source": [
    "from torchani.aev import trim_neighbor_pairs"
   ]
  },
  {
   "cell_type": "code",
   "execution_count": 39,
   "metadata": {},
   "outputs": [],
   "source": [
    "atom_index12_trimmed = trim_neighbor_pairs(atom_index12, index_diff)"
   ]
  },
  {
   "cell_type": "code",
   "execution_count": 46,
   "metadata": {},
   "outputs": [
    {
     "data": {
      "text/plain": [
       "tensor([ 0,  0,  0,  0,  0,  0,  0,  0,  0,  0,  0,  1,  1,  1,  1,  1,  1,  1,\n",
       "         1,  1,  1,  1,  1,  1,  2,  2,  2,  2,  2,  2,  2,  2,  2,  2,  2,  2,\n",
       "         3,  3,  3,  3,  3,  3,  3,  3,  3,  3,  3,  4,  4,  4,  4,  4,  4,  5,\n",
       "         5,  5,  6,  6,  6,  7,  7,  8,  8,  8,  8,  8,  8,  9,  9,  9,  9,  9,\n",
       "        10, 10, 10, 10, 11, 11, 11, 12, 12, 13,  1,  2,  3,  4,  5,  6,  7, 11,\n",
       "        12, 13, 14,  2,  3,  4,  5,  6,  7,  8,  9, 10, 11, 12, 13, 14,  3,  4,\n",
       "         5,  6,  7,  8,  9, 10, 11, 12, 13, 14,  4,  5,  6,  7,  8,  9, 10, 11,\n",
       "        12, 13, 14,  5,  6,  7, 11, 13, 14,  6,  7, 11,  7, 11, 14, 11, 14,  9,\n",
       "        10, 11, 12, 13, 14, 10, 11, 12, 13, 14, 11, 12, 13, 14, 12, 13, 14, 13,\n",
       "        14, 14])"
      ]
     },
     "execution_count": 46,
     "metadata": {},
     "output_type": "execute_result"
    }
   ],
   "source": [
    "atom_index12.view(-1)"
   ]
  },
  {
   "cell_type": "code",
   "execution_count": 48,
   "metadata": {},
   "outputs": [
    {
     "data": {
      "text/plain": [
       "tensor([[ 0,  0,  0,  0,  1,  1,  1,  1,  1,  1,  1,  2,  2,  2,  2,  2,  2,  2,\n",
       "          3,  3,  3,  3,  3,  3,  3,  4,  4,  4,  5,  6,  6,  7,  7],\n",
       "        [11, 12, 13, 14,  8,  9, 10, 11, 12, 13, 14,  8,  9, 10, 11, 12, 13, 14,\n",
       "          8,  9, 10, 11, 12, 13, 14, 11, 13, 14, 11, 11, 14, 11, 14]])"
      ]
     },
     "execution_count": 48,
     "metadata": {},
     "output_type": "execute_result"
    }
   ],
   "source": [
    "atom_index12_trimmed"
   ]
  },
  {
   "cell_type": "code",
   "execution_count": 47,
   "metadata": {},
   "outputs": [
    {
     "data": {
      "text/plain": [
       "tensor([ 0,  0,  0,  0,  1,  1,  1,  1,  1,  1,  1,  2,  2,  2,  2,  2,  2,  2,\n",
       "         3,  3,  3,  3,  3,  3,  3,  4,  4,  4,  5,  6,  6,  7,  7, 11, 12, 13,\n",
       "        14,  8,  9, 10, 11, 12, 13, 14,  8,  9, 10, 11, 12, 13, 14,  8,  9, 10,\n",
       "        11, 12, 13, 14, 11, 13, 14, 11, 11, 14, 11, 14])"
      ]
     },
     "execution_count": 47,
     "metadata": {},
     "output_type": "execute_result"
    }
   ],
   "source": [
    "atom_index12_trimmed.contiguous().view(-1)"
   ]
  },
  {
   "cell_type": "code",
   "execution_count": 42,
   "metadata": {},
   "outputs": [
    {
     "data": {
      "text/plain": [
       "torch.Size([2, 82])"
      ]
     },
     "execution_count": 42,
     "metadata": {},
     "output_type": "execute_result"
    }
   ],
   "source": [
    "atom_index12.shape"
   ]
  },
  {
   "cell_type": "code",
   "execution_count": 43,
   "metadata": {},
   "outputs": [
    {
     "data": {
      "text/plain": [
       "torch.Size([2, 33])"
      ]
     },
     "execution_count": 43,
     "metadata": {},
     "output_type": "execute_result"
    }
   ],
   "source": [
    "atom_index12_trimmed.shape"
   ]
  },
  {
   "cell_type": "code",
   "execution_count": null,
   "metadata": {},
   "outputs": [],
   "source": []
  },
  {
   "cell_type": "code",
   "execution_count": null,
   "metadata": {},
   "outputs": [],
   "source": []
  }
 ],
 "metadata": {
  "interpreter": {
   "hash": "c30f2af5f468e7f5b45bcc30fca5f4886c90d54777aed916ed5f6294dfb24bf2"
  },
  "kernelspec": {
   "display_name": "Python 3.9.10 ('base')",
   "language": "python",
   "name": "python3"
  },
  "language_info": {
   "codemirror_mode": {
    "name": "ipython",
    "version": 3
   },
   "file_extension": ".py",
   "mimetype": "text/x-python",
   "name": "python",
   "nbconvert_exporter": "python",
   "pygments_lexer": "ipython3",
   "version": "3.9.10"
  },
  "orig_nbformat": 4
 },
 "nbformat": 4,
 "nbformat_minor": 2
}
